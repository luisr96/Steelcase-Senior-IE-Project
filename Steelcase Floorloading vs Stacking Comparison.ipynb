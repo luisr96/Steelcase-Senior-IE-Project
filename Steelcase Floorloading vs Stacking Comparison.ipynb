{
  "nbformat": 4,
  "nbformat_minor": 0,
  "metadata": {
    "colab": {
      "name": "Stacking Sofa Packing.ipynb",
      "provenance": [],
      "collapsed_sections": [],
      "toc_visible": true,
      "authorship_tag": "ABX9TyP6jxkpW/2N4O51xgf06V2j",
      "include_colab_link": true
    },
    "kernelspec": {
      "name": "python3",
      "display_name": "Python 3"
    }
  },
  "cells": [
    {
      "cell_type": "markdown",
      "metadata": {
        "id": "view-in-github",
        "colab_type": "text"
      },
      "source": [
        "<a href=\"https://colab.research.google.com/github/luisr96/Steelcase-Senior-IE-Project/blob/main/Steelcase%20Floorloading%20vs%20Stacking%20Comparison.ipynb\" target=\"_parent\"><img src=\"https://colab.research.google.com/assets/colab-badge.svg\" alt=\"Open In Colab\"/></a>"
      ]
    },
    {
      "cell_type": "markdown",
      "metadata": {
        "id": "BAinpepchkk8"
      },
      "source": [
        "# Main"
      ]
    },
    {
      "cell_type": "markdown",
      "metadata": {
        "id": "ggJQZzBFkbtc"
      },
      "source": [
        "## Installing, importing and defining"
      ]
    },
    {
      "cell_type": "code",
      "metadata": {
        "id": "qSLFoawW9e6a",
        "colab": {
          "base_uri": "https://localhost:8080/"
        },
        "outputId": "26d25696-3511-46a2-9017-13f519c84081"
      },
      "source": [
        "# Google sheets\n",
        "# Sheet used: https://docs.google.com/spreadsheets/d/1TC1f7JTJx8Kofbg3dff_JzNCKiGmIsqYIN7COGdaauI/edit#gid=2097386046\n",
        "\n",
        "from google.colab import auth\n",
        "auth.authenticate_user()\n",
        "import gspread\n",
        "from oauth2client.client import GoogleCredentials\n",
        "gc = gspread.authorize(GoogleCredentials.get_application_default())\n",
        "\n",
        "# Modules\n",
        "\n",
        "import csv\n",
        "import pandas as pd\n",
        "import random\n",
        "import math\n",
        "import matplotlib.pyplot as plt\n",
        "import matplotlib.patches as patches\n",
        "import copy\n",
        "%matplotlib inline\n",
        "import numpy as np\n",
        "\n",
        "\n",
        "# Rectpack - heuristic algorithms used\n",
        "# Documentation: https://github.com/secnot/rectpack\n",
        "\n",
        "!pip install rectpack\n",
        "from rectpack import newPacker\n",
        "\n",
        "# High cube sea container definitions (inches)\n",
        "hc_w = int(92)\n",
        "hc_l = int(474.5)\n",
        "hc_h = int(106)\n",
        "\n",
        "roof_tolerance = int(8)\n",
        "\n",
        "max_weight_to_stack = 100\n",
        "\n",
        "# Amount of sea containers to fit packages into (big safe number)\n",
        "amount = 20\n",
        "\n",
        "class Pallet:\n",
        "    def __init__(self, name=\"\", length=0, width=0, height=0, weight=0):\n",
        "        self.name = name\n",
        "        self.length = length\n",
        "        self.width = width\n",
        "        self.height = height\n",
        "        self.weight = weight\n",
        "\n",
        "    def __repr__(self):\n",
        "        return f\"{self.name}\"\n",
        "\n",
        "pallet80 = Pallet(name=\"Pallet 927000080\", length=111, width=40, height=4.75, weight=40)\n",
        "pallet81 = Pallet(name=\"Pallet 927000081\", length=100, width=40, height=4.75, weight=35)\n",
        "pallet82 = Pallet(name=\"Pallet 927000082\", length=89, width=40, height=4.75, weight=30)\n",
        "pallet83 = Pallet(name=\"Pallet 927000083\", length=78, width=40, height=4.75, weight=25)\n",
        "pallet84 = Pallet(name=\"Pallet 927000084\", length=67, width=40, height=4.75, weight=20)"
      ],
      "execution_count": 1,
      "outputs": [
        {
          "output_type": "stream",
          "text": [
            "Requirement already satisfied: rectpack in /usr/local/lib/python3.7/dist-packages (0.2.1)\n",
            "Requirement already satisfied: nose in /usr/local/lib/python3.7/dist-packages (from rectpack) (1.3.7)\n",
            "Requirement already satisfied: unittest2 in /usr/local/lib/python3.7/dist-packages (from rectpack) (1.1.0)\n",
            "Requirement already satisfied: six>=1.4 in /usr/local/lib/python3.7/dist-packages (from unittest2->rectpack) (1.15.0)\n",
            "Requirement already satisfied: traceback2 in /usr/local/lib/python3.7/dist-packages (from unittest2->rectpack) (1.4.0)\n",
            "Requirement already satisfied: argparse in /usr/local/lib/python3.7/dist-packages (from unittest2->rectpack) (1.4.0)\n",
            "Requirement already satisfied: linecache2 in /usr/local/lib/python3.7/dist-packages (from traceback2->unittest2->rectpack) (1.0.0)\n"
          ],
          "name": "stdout"
        }
      ]
    },
    {
      "cell_type": "markdown",
      "metadata": {
        "id": "fQBoEcRXwQ-m"
      },
      "source": [
        "## Pandas Dataframe"
      ]
    },
    {
      "cell_type": "code",
      "metadata": {
        "colab": {
          "base_uri": "https://localhost:8080/",
          "height": 141
        },
        "id": "9KTVZ8K39imV",
        "outputId": "c4291533-ad8f-43f5-ccfd-0992d794b038"
      },
      "source": [
        "# read in the Google Sheets file into a pandas dataframe\n",
        "wb = gc.open_by_url('https://docs.google.com/spreadsheets/d/1TC1f7JTJx8Kofbg3dff_JzNCKiGmIsqYIN7COGdaauI/edit#gid=1715628415')\n",
        "sheet = wb.worksheet('order')\n",
        "data = sheet.get_all_values()\n",
        "df = pd.DataFrame(data)\n",
        "df.columns = df.iloc[0]\n",
        "df = df.iloc[1:]\n",
        "\n",
        "# drop rows that don't have a value for width (i.e. don't have values for product or qty) in the google sheets\n",
        "df = df[df['width'].astype(bool)] \n",
        "\n",
        "# specify data types for each column\n",
        "df = df.astype({\"product\": str, \"qty\": int, \"length\": int, \"width\": int, \"height\": int, \"weight\": int, \"palleted\":str})\n",
        "\n",
        "# arrange alphabetically\n",
        "df = df.sort_values(by='product', ascending=True)\n",
        "\n",
        "# show\n",
        "df"
      ],
      "execution_count": 2,
      "outputs": [
        {
          "output_type": "execute_result",
          "data": {
            "text/html": [
              "<div>\n",
              "<style scoped>\n",
              "    .dataframe tbody tr th:only-of-type {\n",
              "        vertical-align: middle;\n",
              "    }\n",
              "\n",
              "    .dataframe tbody tr th {\n",
              "        vertical-align: top;\n",
              "    }\n",
              "\n",
              "    .dataframe thead th {\n",
              "        text-align: right;\n",
              "    }\n",
              "</style>\n",
              "<table border=\"1\" class=\"dataframe\">\n",
              "  <thead>\n",
              "    <tr style=\"text-align: right;\">\n",
              "      <th></th>\n",
              "      <th>product</th>\n",
              "      <th>qty</th>\n",
              "      <th>length</th>\n",
              "      <th>width</th>\n",
              "      <th>height</th>\n",
              "      <th>weight</th>\n",
              "      <th>palleted</th>\n",
              "    </tr>\n",
              "  </thead>\n",
              "  <tbody>\n",
              "    <tr>\n",
              "      <th>1</th>\n",
              "      <td>(Case Study) MS LOUNGE,CORNER LEFT</td>\n",
              "      <td>5</td>\n",
              "      <td>94</td>\n",
              "      <td>35</td>\n",
              "      <td>29</td>\n",
              "      <td>23</td>\n",
              "      <td></td>\n",
              "    </tr>\n",
              "    <tr>\n",
              "      <th>3</th>\n",
              "      <td>(Case Study) MS LOUNGE,STRAIGHT</td>\n",
              "      <td>4</td>\n",
              "      <td>81</td>\n",
              "      <td>35</td>\n",
              "      <td>29</td>\n",
              "      <td>22</td>\n",
              "      <td></td>\n",
              "    </tr>\n",
              "    <tr>\n",
              "      <th>2</th>\n",
              "      <td>CTN,SPL M2X POWER UNIT,PACK - COLAGCL3 - P999865</td>\n",
              "      <td>13</td>\n",
              "      <td>16</td>\n",
              "      <td>9</td>\n",
              "      <td>5</td>\n",
              "      <td>1</td>\n",
              "      <td></td>\n",
              "    </tr>\n",
              "  </tbody>\n",
              "</table>\n",
              "</div>"
            ],
            "text/plain": [
              "0                                           product  qty  ...  weight  palleted\n",
              "1                (Case Study) MS LOUNGE,CORNER LEFT    5  ...      23          \n",
              "3                   (Case Study) MS LOUNGE,STRAIGHT    4  ...      22          \n",
              "2  CTN,SPL M2X POWER UNIT,PACK - COLAGCL3 - P999865   13  ...       1          \n",
              "\n",
              "[3 rows x 7 columns]"
            ]
          },
          "metadata": {
            "tags": []
          },
          "execution_count": 2
        }
      ]
    },
    {
      "cell_type": "markdown",
      "metadata": {
        "id": "Cv03saC5q0Hx"
      },
      "source": [
        "## Palletizing"
      ]
    },
    {
      "cell_type": "code",
      "metadata": {
        "colab": {
          "base_uri": "https://localhost:8080/",
          "height": 1000
        },
        "id": "xN9NQwQMkDDR",
        "outputId": "0480916d-5458-407a-c2d5-1ffec669a756"
      },
      "source": [
        "# fit each package meant to be palletized into the smallest pallet possible\n",
        "\n",
        "for i, row in df.iterrows():\n",
        "    if (df['width'][i] <= pallet84.width) and \\\n",
        "    (df['length'][i] <= pallet84.length) and \\\n",
        "    (df['palleted'][i] != 'N'):\n",
        "        df['width'][i] = pallet84.width\n",
        "        df['length'][i] = pallet84.length\n",
        "        df['height'][i] += pallet84.height\n",
        "        df['weight'][i] += pallet84.weight\n",
        "\n",
        "    elif (df['width'][i] <= pallet83.width) and \\\n",
        "    (df['length'][i] <= pallet83.length) and \\\n",
        "    (df['palleted'][i] != 'N'):\n",
        "        df['width'][i] = pallet83.width\n",
        "        df['length'][i] = pallet83.length\n",
        "        df['height'][i] += pallet83.height\n",
        "        df['weight'][i] += pallet83.weight\n",
        "\n",
        "    elif (df['width'][i] <= pallet82.width) and \\\n",
        "    (df['length'][i] <= pallet82.length) and \\\n",
        "    (df['palleted'][i] != 'N'):\n",
        "        df['width'][i] = pallet82.width\n",
        "        df['length'][i] = pallet82.length\n",
        "        df['height'][i] += pallet82.height\n",
        "        df['weight'][i] += pallet82.weight\n",
        "\n",
        "    elif (df['width'][i] <= pallet81.width) and \\\n",
        "    (df['length'][i] <= pallet81.length) and \\\n",
        "    (df['palleted'][i] != 'N'):\n",
        "        df['width'][i] = pallet81.width\n",
        "        df['length'][i] = pallet81.length\n",
        "        df['height'][i] += pallet81.height\n",
        "        df['weight'][i] += pallet81.weight\n",
        "\n",
        "    elif (df['width'][i] <= pallet80.width) and \\\n",
        "    (df['length'][i] <= pallet80.length) and \\\n",
        "    (df['palleted'][i] != 'N'):\n",
        "        df['width'][i] = pallet80.width\n",
        "        df['length'][i] = pallet80.length\n",
        "        df['height'][i] += pallet80.height\n",
        "        df['weight'][i] += pallet80.weight\n",
        "\n",
        "df"
      ],
      "execution_count": 3,
      "outputs": [
        {
          "output_type": "stream",
          "text": [
            "/usr/local/lib/python3.7/dist-packages/ipykernel_launcher.py:23: SettingWithCopyWarning: \n",
            "A value is trying to be set on a copy of a slice from a DataFrame\n",
            "\n",
            "See the caveats in the documentation: https://pandas.pydata.org/pandas-docs/stable/user_guide/indexing.html#returning-a-view-versus-a-copy\n",
            "/usr/local/lib/python3.7/dist-packages/ipykernel_launcher.py:24: SettingWithCopyWarning: \n",
            "A value is trying to be set on a copy of a slice from a DataFrame\n",
            "\n",
            "See the caveats in the documentation: https://pandas.pydata.org/pandas-docs/stable/user_guide/indexing.html#returning-a-view-versus-a-copy\n",
            "/usr/local/lib/python3.7/dist-packages/ipykernel_launcher.py:25: SettingWithCopyWarning: \n",
            "A value is trying to be set on a copy of a slice from a DataFrame\n",
            "\n",
            "See the caveats in the documentation: https://pandas.pydata.org/pandas-docs/stable/user_guide/indexing.html#returning-a-view-versus-a-copy\n",
            "/usr/local/lib/python3.7/dist-packages/ipykernel_launcher.py:26: SettingWithCopyWarning: \n",
            "A value is trying to be set on a copy of a slice from a DataFrame\n",
            "\n",
            "See the caveats in the documentation: https://pandas.pydata.org/pandas-docs/stable/user_guide/indexing.html#returning-a-view-versus-a-copy\n",
            "/usr/local/lib/python3.7/dist-packages/ipykernel_launcher.py:17: SettingWithCopyWarning: \n",
            "A value is trying to be set on a copy of a slice from a DataFrame\n",
            "\n",
            "See the caveats in the documentation: https://pandas.pydata.org/pandas-docs/stable/user_guide/indexing.html#returning-a-view-versus-a-copy\n",
            "/usr/local/lib/python3.7/dist-packages/ipykernel_launcher.py:18: SettingWithCopyWarning: \n",
            "A value is trying to be set on a copy of a slice from a DataFrame\n",
            "\n",
            "See the caveats in the documentation: https://pandas.pydata.org/pandas-docs/stable/user_guide/indexing.html#returning-a-view-versus-a-copy\n",
            "/usr/local/lib/python3.7/dist-packages/ipykernel_launcher.py:19: SettingWithCopyWarning: \n",
            "A value is trying to be set on a copy of a slice from a DataFrame\n",
            "\n",
            "See the caveats in the documentation: https://pandas.pydata.org/pandas-docs/stable/user_guide/indexing.html#returning-a-view-versus-a-copy\n",
            "/usr/local/lib/python3.7/dist-packages/ipykernel_launcher.py:20: SettingWithCopyWarning: \n",
            "A value is trying to be set on a copy of a slice from a DataFrame\n",
            "\n",
            "See the caveats in the documentation: https://pandas.pydata.org/pandas-docs/stable/user_guide/indexing.html#returning-a-view-versus-a-copy\n",
            "/usr/local/lib/python3.7/dist-packages/ipykernel_launcher.py:5: SettingWithCopyWarning: \n",
            "A value is trying to be set on a copy of a slice from a DataFrame\n",
            "\n",
            "See the caveats in the documentation: https://pandas.pydata.org/pandas-docs/stable/user_guide/indexing.html#returning-a-view-versus-a-copy\n",
            "  \"\"\"\n",
            "/usr/local/lib/python3.7/dist-packages/ipykernel_launcher.py:6: SettingWithCopyWarning: \n",
            "A value is trying to be set on a copy of a slice from a DataFrame\n",
            "\n",
            "See the caveats in the documentation: https://pandas.pydata.org/pandas-docs/stable/user_guide/indexing.html#returning-a-view-versus-a-copy\n",
            "  \n",
            "/usr/local/lib/python3.7/dist-packages/ipykernel_launcher.py:7: SettingWithCopyWarning: \n",
            "A value is trying to be set on a copy of a slice from a DataFrame\n",
            "\n",
            "See the caveats in the documentation: https://pandas.pydata.org/pandas-docs/stable/user_guide/indexing.html#returning-a-view-versus-a-copy\n",
            "  import sys\n",
            "/usr/local/lib/python3.7/dist-packages/ipykernel_launcher.py:8: SettingWithCopyWarning: \n",
            "A value is trying to be set on a copy of a slice from a DataFrame\n",
            "\n",
            "See the caveats in the documentation: https://pandas.pydata.org/pandas-docs/stable/user_guide/indexing.html#returning-a-view-versus-a-copy\n",
            "  \n"
          ],
          "name": "stderr"
        },
        {
          "output_type": "execute_result",
          "data": {
            "text/html": [
              "<div>\n",
              "<style scoped>\n",
              "    .dataframe tbody tr th:only-of-type {\n",
              "        vertical-align: middle;\n",
              "    }\n",
              "\n",
              "    .dataframe tbody tr th {\n",
              "        vertical-align: top;\n",
              "    }\n",
              "\n",
              "    .dataframe thead th {\n",
              "        text-align: right;\n",
              "    }\n",
              "</style>\n",
              "<table border=\"1\" class=\"dataframe\">\n",
              "  <thead>\n",
              "    <tr style=\"text-align: right;\">\n",
              "      <th></th>\n",
              "      <th>product</th>\n",
              "      <th>qty</th>\n",
              "      <th>length</th>\n",
              "      <th>width</th>\n",
              "      <th>height</th>\n",
              "      <th>weight</th>\n",
              "      <th>palleted</th>\n",
              "    </tr>\n",
              "  </thead>\n",
              "  <tbody>\n",
              "    <tr>\n",
              "      <th>1</th>\n",
              "      <td>(Case Study) MS LOUNGE,CORNER LEFT</td>\n",
              "      <td>5</td>\n",
              "      <td>100</td>\n",
              "      <td>40</td>\n",
              "      <td>33</td>\n",
              "      <td>58</td>\n",
              "      <td></td>\n",
              "    </tr>\n",
              "    <tr>\n",
              "      <th>3</th>\n",
              "      <td>(Case Study) MS LOUNGE,STRAIGHT</td>\n",
              "      <td>4</td>\n",
              "      <td>89</td>\n",
              "      <td>40</td>\n",
              "      <td>33</td>\n",
              "      <td>52</td>\n",
              "      <td></td>\n",
              "    </tr>\n",
              "    <tr>\n",
              "      <th>2</th>\n",
              "      <td>CTN,SPL M2X POWER UNIT,PACK - COLAGCL3 - P999865</td>\n",
              "      <td>13</td>\n",
              "      <td>67</td>\n",
              "      <td>40</td>\n",
              "      <td>9</td>\n",
              "      <td>21</td>\n",
              "      <td></td>\n",
              "    </tr>\n",
              "  </tbody>\n",
              "</table>\n",
              "</div>"
            ],
            "text/plain": [
              "0                                           product  qty  ...  weight  palleted\n",
              "1                (Case Study) MS LOUNGE,CORNER LEFT    5  ...      58          \n",
              "3                   (Case Study) MS LOUNGE,STRAIGHT    4  ...      52          \n",
              "2  CTN,SPL M2X POWER UNIT,PACK - COLAGCL3 - P999865   13  ...      21          \n",
              "\n",
              "[3 rows x 7 columns]"
            ]
          },
          "metadata": {
            "tags": []
          },
          "execution_count": 3
        }
      ]
    },
    {
      "cell_type": "code",
      "metadata": {
        "colab": {
          "base_uri": "https://localhost:8080/"
        },
        "id": "rfKzWcn_jB3i",
        "outputId": "033fb4c7-4a1e-4350-bca2-1fbb9bdecf4b"
      },
      "source": [
        "floor_loading_tuples = []\n",
        "\n",
        "# for every row in dataframe\n",
        "for i, row in df.iterrows():\n",
        "\n",
        "    # for every qty per row\n",
        "    for x in range(0,df['qty'][i]):\n",
        "\n",
        "        #add length and width tuples to the list\n",
        "        floor_loading_tuples.append((df['length'][i], df['width'][i]))\n",
        "\n",
        "print(floor_loading_tuples)"
      ],
      "execution_count": 4,
      "outputs": [
        {
          "output_type": "stream",
          "text": [
            "[(100, 40), (100, 40), (100, 40), (100, 40), (100, 40), (89, 40), (89, 40), (89, 40), (89, 40), (67, 40), (67, 40), (67, 40), (67, 40), (67, 40), (67, 40), (67, 40), (67, 40), (67, 40), (67, 40), (67, 40), (67, 40), (67, 40)]\n"
          ],
          "name": "stdout"
        }
      ]
    },
    {
      "cell_type": "markdown",
      "metadata": {
        "id": "4NyyWD55i_m4"
      },
      "source": [
        "# Floor-loading only"
      ]
    },
    {
      "cell_type": "code",
      "metadata": {
        "id": "7Ul7DyOujlnv"
      },
      "source": [
        "# create \"amount\" amount of containers\n",
        "# \"amount\" is an arbitrarily big safe number to ensure there's enough\n",
        "containers = [(hc_l, hc_w)] * amount\n",
        "\n",
        "packer_intocontainers = newPacker()\n",
        "\n",
        "# Add pallets and non-palleted items into sea container\n",
        "for r in floor_loading_tuples:\n",
        "\tpacker_intocontainers.add_rect(*r)\n",
        "\n",
        "for b in containers:\n",
        "\tpacker_intocontainers.add_bin(*b)\n",
        " \n",
        "\n",
        "packer_intocontainers.pack()"
      ],
      "execution_count": 5,
      "outputs": []
    },
    {
      "cell_type": "markdown",
      "metadata": {
        "id": "3Od0xzvnBV-L"
      },
      "source": [
        "## Graphing the results (Floor-loading only)"
      ]
    },
    {
      "cell_type": "code",
      "metadata": {
        "id": "Esx7ymg1j6lk",
        "colab": {
          "base_uri": "https://localhost:8080/"
        },
        "outputId": "6eead786-e9d9-4da0-cfa7-c7f9ad15560a"
      },
      "source": [
        "ncontainers = len(packer_intocontainers)\n",
        "print(f\"{ncontainers} containers are used.\")"
      ],
      "execution_count": 6,
      "outputs": [
        {
          "output_type": "stream",
          "text": [
            "2 containers are used.\n"
          ],
          "name": "stdout"
        }
      ]
    },
    {
      "cell_type": "code",
      "metadata": {
        "id": "sv_6DtLuaRg7",
        "colab": {
          "base_uri": "https://localhost:8080/",
          "height": 315
        },
        "outputId": "3d13f7a2-0fee-430d-a842-871fe49a5c61"
      },
      "source": [
        "loc_dict = {}\n",
        "\n",
        "fig = plt.figure(figsize=(15,15))\n",
        "\n",
        "ncolumns = 2\n",
        "\n",
        "# shape of subplot\n",
        "shape = (int(math.ceil(ncontainers/ncolumns)), ncolumns)\n",
        "\n",
        "print(\"\\n\")\n",
        "\n",
        "counter = -1\n",
        "\n",
        "i=0\n",
        "while i < ncontainers:\n",
        "\n",
        "    if (i % ncolumns == 0):\n",
        "        counter += 1\n",
        "\n",
        "    print(f\"Shipping Container #{i+1}: {containers[i][0]}L x {containers[i][1]}W\")\n",
        "    plt.title(f\"Shipping Container #{i}: {containers[i][0]}L x {containers[i][1]}W\")\n",
        "\n",
        "    loc_dict[i] = (counter, i % ncolumns)\n",
        "\n",
        "    ax = plt.subplot2grid(shape=shape, loc=loc_dict[i])\n",
        "                                     \n",
        "    plt.ylim(0, containers[i][1])\n",
        "    plt.xlim(0, containers[i][0])\n",
        "    plt.gca().set_aspect('equal', adjustable='box')\n",
        "\n",
        "    print(f\"Pallets fit: {len(packer_intocontainers[i])}\")\n",
        "\n",
        "    # for every item in the container, draw it\n",
        "    x=0\n",
        "    while x < len(packer_intocontainers[i]):\n",
        "\n",
        "        drawrect = patches.Rectangle((packer_intocontainers[i][x].x, packer_intocontainers[i][x].y), packer_intocontainers[i][x].width, \n",
        "                                 packer_intocontainers[i][x].height, linewidth=1, color='pink', ec=\"#000000\")\n",
        "        \n",
        "        ax.add_patch(drawrect)\n",
        "\n",
        "        x += 1\n",
        "\n",
        "    print(\"\\n\")\n",
        "\n",
        "    i += 1\n",
        "\n",
        "plt.title(f\"Shipping Container #{i}: {containers[i][0]}L x {containers[i][0]}W\")\n",
        "\n",
        "plt.subplots_adjust(left=None, bottom=0.60, right=None, top=None, wspace=0.1, hspace=0.1)\n",
        "\n",
        "plt.savefig('floor_loading_only.png')"
      ],
      "execution_count": 7,
      "outputs": [
        {
          "output_type": "stream",
          "text": [
            "\n",
            "\n",
            "Shipping Container #1: 474L x 92W\n",
            "Pallets fit: 10\n",
            "\n",
            "\n",
            "Shipping Container #2: 474L x 92W\n",
            "Pallets fit: 12\n",
            "\n",
            "\n"
          ],
          "name": "stdout"
        },
        {
          "output_type": "display_data",
          "data": {
            "image/png": "[encoded data removed]",
            "text/plain": [
              "<Figure size 1080x1080 with 2 Axes>"
            ]
          },
          "metadata": {
            "tags": [],
            "needs_background": "light"
          }
        }
      ]
    },
    {
      "cell_type": "markdown",
      "metadata": {
        "id": "cl43a9ygqzja"
      },
      "source": [
        "# Stacking"
      ]
    },
    {
      "cell_type": "code",
      "metadata": {
        "colab": {
          "base_uri": "https://localhost:8080/",
          "height": 141
        },
        "id": "hm4HiBtfq46r",
        "outputId": "ef799673-59fc-421e-af76-bf7809090a87"
      },
      "source": [
        "df_stacked = df.copy()\n",
        "df_stacked"
      ],
      "execution_count": 8,
      "outputs": [
        {
          "output_type": "execute_result",
          "data": {
            "text/html": [
              "<div>\n",
              "<style scoped>\n",
              "    .dataframe tbody tr th:only-of-type {\n",
              "        vertical-align: middle;\n",
              "    }\n",
              "\n",
              "    .dataframe tbody tr th {\n",
              "        vertical-align: top;\n",
              "    }\n",
              "\n",
              "    .dataframe thead th {\n",
              "        text-align: right;\n",
              "    }\n",
              "</style>\n",
              "<table border=\"1\" class=\"dataframe\">\n",
              "  <thead>\n",
              "    <tr style=\"text-align: right;\">\n",
              "      <th></th>\n",
              "      <th>product</th>\n",
              "      <th>qty</th>\n",
              "      <th>length</th>\n",
              "      <th>width</th>\n",
              "      <th>height</th>\n",
              "      <th>weight</th>\n",
              "      <th>palleted</th>\n",
              "    </tr>\n",
              "  </thead>\n",
              "  <tbody>\n",
              "    <tr>\n",
              "      <th>1</th>\n",
              "      <td>(Case Study) MS LOUNGE,CORNER LEFT</td>\n",
              "      <td>5</td>\n",
              "      <td>100</td>\n",
              "      <td>40</td>\n",
              "      <td>33</td>\n",
              "      <td>58</td>\n",
              "      <td></td>\n",
              "    </tr>\n",
              "    <tr>\n",
              "      <th>3</th>\n",
              "      <td>(Case Study) MS LOUNGE,STRAIGHT</td>\n",
              "      <td>4</td>\n",
              "      <td>89</td>\n",
              "      <td>40</td>\n",
              "      <td>33</td>\n",
              "      <td>52</td>\n",
              "      <td></td>\n",
              "    </tr>\n",
              "    <tr>\n",
              "      <th>2</th>\n",
              "      <td>CTN,SPL M2X POWER UNIT,PACK - COLAGCL3 - P999865</td>\n",
              "      <td>13</td>\n",
              "      <td>67</td>\n",
              "      <td>40</td>\n",
              "      <td>9</td>\n",
              "      <td>21</td>\n",
              "      <td></td>\n",
              "    </tr>\n",
              "  </tbody>\n",
              "</table>\n",
              "</div>"
            ],
            "text/plain": [
              "0                                           product  qty  ...  weight  palleted\n",
              "1                (Case Study) MS LOUNGE,CORNER LEFT    5  ...      58          \n",
              "3                   (Case Study) MS LOUNGE,STRAIGHT    4  ...      52          \n",
              "2  CTN,SPL M2X POWER UNIT,PACK - COLAGCL3 - P999865   13  ...      21          \n",
              "\n",
              "[3 rows x 7 columns]"
            ]
          },
          "metadata": {
            "tags": []
          },
          "execution_count": 8
        }
      ]
    },
    {
      "cell_type": "code",
      "metadata": {
        "colab": {
          "base_uri": "https://localhost:8080/",
          "height": 795
        },
        "id": "i_zJ-80COPyp",
        "outputId": "22ab9828-1f50-4a7c-f3eb-96776e2763ec"
      },
      "source": [
        "odd_to_add = []\n",
        "color_list = []\n",
        "\n",
        "for i, row in df_stacked.iterrows():\n",
        "\n",
        "    # if there is only 1 of an item, it can't be stacked and is red\n",
        "    if df_stacked['qty'][i] == 1:\n",
        "        print(f\"There's only 1 of {df_stacked['product'][i]}\")\n",
        "        color_list += ['red']\n",
        "        continue\n",
        "\n",
        "    # hc_h is height of shipping container \n",
        "    # roof_tolerance between roof and top of heighest package was recommended 8\"\n",
        "    # however, can be changed if that changes\n",
        "\n",
        "    # max_weight_to_stack is the most weight a bottom item can withstand and\n",
        "    # will need to be changed based on mechanical engineers' design\n",
        "\n",
        "    # if it's unstackable due to weight or height restrictions\n",
        "    if ((2 * df_stacked['height'][i] >= (hc_h - roof_tolerance)) or (df_stacked['weight'][i] >= max_weight_to_stack)):\n",
        "        print(f\"{df_stacked['product'][i]} is unstackable.\")\n",
        "        color_list += ['red'] * df_stacked['qty'][i]\n",
        "        continue\n",
        "\n",
        "    # if qty is even and stackable in terms of height and weight\n",
        "    if (df_stacked['qty'][i] % 2 == 0):\n",
        "        print(f\"There is an even number of {df_stacked['product'][i]}\") \n",
        "        df_stacked['qty'][i] = df_stacked['qty'][i]/2\n",
        "        df_stacked['product'][i] = 'stack of ' + df_stacked['product'][i]\n",
        "        df_stacked['height'][i] = df_stacked['height'][i] * 2\n",
        "        df_stacked['weight'][i] = df_stacked['weight'][i] * 2\n",
        "        color_list += ['green'] * df_stacked['qty'][i]\n",
        "\n",
        "    # if qty is odd and stackable in terms of height and weight,\n",
        "    # put the leftover one in odd_to_add list\n",
        "    elif (df_stacked['qty'][i] % 2 != 0):\n",
        "        print(f\"There is an odd number of {df_stacked['product'][i]}\")\n",
        "        df_stacked['qty'][i] = (df_stacked['qty'][i]-1)/2\n",
        "        df_stacked['product'][i] = 'stack of ' + df_stacked['product'][i]\n",
        "        df_stacked['height'][i] = df_stacked['height'][i] * 2\n",
        "        df_stacked['weight'][i] = df_stacked['weight'][i] * 2\n",
        "        \n",
        "        odd_to_add.append([df_stacked['product'][i], \n",
        "                           1, \n",
        "                           df_stacked['length'][i],\n",
        "                           df_stacked['width'][i],\n",
        "                           df_stacked['height'][i] / 2,\n",
        "                           df_stacked['weight'][i] / 2,\n",
        "                           df_stacked['palleted'][i]])\n",
        "        \n",
        "        color_list += ['green'] * df_stacked['qty'][i]\n",
        "        \n",
        "        \n",
        "\n",
        "    # if not stackable, floorload like normal\n",
        "    else:\n",
        "        print(f\"{df_stacked['product'][i]} is unstackable\")\n",
        "\n",
        "print(odd_to_add)\n",
        "\n",
        "df_stacked"
      ],
      "execution_count": 9,
      "outputs": [
        {
          "output_type": "stream",
          "text": [
            "There is an odd number of (Case Study) MS LOUNGE,CORNER LEFT\n",
            "There is an even number of (Case Study) MS LOUNGE,STRAIGHT\n",
            "There is an odd number of CTN,SPL M2X POWER UNIT,PACK - COLAGCL3 - P999865\n",
            "[['stack of (Case Study) MS LOUNGE,CORNER LEFT', 1, 100, 40, 33.0, 58.0, ''], ['stack of CTN,SPL M2X POWER UNIT,PACK - COLAGCL3 - P999865', 1, 67, 40, 9.0, 21.0, '']]\n"
          ],
          "name": "stdout"
        },
        {
          "output_type": "stream",
          "text": [
            "/usr/local/lib/python3.7/dist-packages/ipykernel_launcher.py:30: SettingWithCopyWarning: \n",
            "A value is trying to be set on a copy of a slice from a DataFrame\n",
            "\n",
            "See the caveats in the documentation: https://pandas.pydata.org/pandas-docs/stable/user_guide/indexing.html#returning-a-view-versus-a-copy\n",
            "/usr/local/lib/python3.7/dist-packages/ipykernel_launcher.py:31: SettingWithCopyWarning: \n",
            "A value is trying to be set on a copy of a slice from a DataFrame\n",
            "\n",
            "See the caveats in the documentation: https://pandas.pydata.org/pandas-docs/stable/user_guide/indexing.html#returning-a-view-versus-a-copy\n",
            "/usr/local/lib/python3.7/dist-packages/ipykernel_launcher.py:32: SettingWithCopyWarning: \n",
            "A value is trying to be set on a copy of a slice from a DataFrame\n",
            "\n",
            "See the caveats in the documentation: https://pandas.pydata.org/pandas-docs/stable/user_guide/indexing.html#returning-a-view-versus-a-copy\n",
            "/usr/local/lib/python3.7/dist-packages/ipykernel_launcher.py:33: SettingWithCopyWarning: \n",
            "A value is trying to be set on a copy of a slice from a DataFrame\n",
            "\n",
            "See the caveats in the documentation: https://pandas.pydata.org/pandas-docs/stable/user_guide/indexing.html#returning-a-view-versus-a-copy\n",
            "/usr/local/lib/python3.7/dist-packages/ipykernel_launcher.py:21: SettingWithCopyWarning: \n",
            "A value is trying to be set on a copy of a slice from a DataFrame\n",
            "\n",
            "See the caveats in the documentation: https://pandas.pydata.org/pandas-docs/stable/user_guide/indexing.html#returning-a-view-versus-a-copy\n",
            "/usr/local/lib/python3.7/dist-packages/ipykernel_launcher.py:22: SettingWithCopyWarning: \n",
            "A value is trying to be set on a copy of a slice from a DataFrame\n",
            "\n",
            "See the caveats in the documentation: https://pandas.pydata.org/pandas-docs/stable/user_guide/indexing.html#returning-a-view-versus-a-copy\n",
            "/usr/local/lib/python3.7/dist-packages/ipykernel_launcher.py:23: SettingWithCopyWarning: \n",
            "A value is trying to be set on a copy of a slice from a DataFrame\n",
            "\n",
            "See the caveats in the documentation: https://pandas.pydata.org/pandas-docs/stable/user_guide/indexing.html#returning-a-view-versus-a-copy\n",
            "/usr/local/lib/python3.7/dist-packages/ipykernel_launcher.py:24: SettingWithCopyWarning: \n",
            "A value is trying to be set on a copy of a slice from a DataFrame\n",
            "\n",
            "See the caveats in the documentation: https://pandas.pydata.org/pandas-docs/stable/user_guide/indexing.html#returning-a-view-versus-a-copy\n"
          ],
          "name": "stderr"
        },
        {
          "output_type": "execute_result",
          "data": {
            "text/html": [
              "<div>\n",
              "<style scoped>\n",
              "    .dataframe tbody tr th:only-of-type {\n",
              "        vertical-align: middle;\n",
              "    }\n",
              "\n",
              "    .dataframe tbody tr th {\n",
              "        vertical-align: top;\n",
              "    }\n",
              "\n",
              "    .dataframe thead th {\n",
              "        text-align: right;\n",
              "    }\n",
              "</style>\n",
              "<table border=\"1\" class=\"dataframe\">\n",
              "  <thead>\n",
              "    <tr style=\"text-align: right;\">\n",
              "      <th></th>\n",
              "      <th>product</th>\n",
              "      <th>qty</th>\n",
              "      <th>length</th>\n",
              "      <th>width</th>\n",
              "      <th>height</th>\n",
              "      <th>weight</th>\n",
              "      <th>palleted</th>\n",
              "    </tr>\n",
              "  </thead>\n",
              "  <tbody>\n",
              "    <tr>\n",
              "      <th>1</th>\n",
              "      <td>stack of (Case Study) MS LOUNGE,CORNER LEFT</td>\n",
              "      <td>2</td>\n",
              "      <td>100</td>\n",
              "      <td>40</td>\n",
              "      <td>66</td>\n",
              "      <td>116</td>\n",
              "      <td></td>\n",
              "    </tr>\n",
              "    <tr>\n",
              "      <th>3</th>\n",
              "      <td>stack of (Case Study) MS LOUNGE,STRAIGHT</td>\n",
              "      <td>2</td>\n",
              "      <td>89</td>\n",
              "      <td>40</td>\n",
              "      <td>66</td>\n",
              "      <td>104</td>\n",
              "      <td></td>\n",
              "    </tr>\n",
              "    <tr>\n",
              "      <th>2</th>\n",
              "      <td>stack of CTN,SPL M2X POWER UNIT,PACK - COLAGCL...</td>\n",
              "      <td>6</td>\n",
              "      <td>67</td>\n",
              "      <td>40</td>\n",
              "      <td>18</td>\n",
              "      <td>42</td>\n",
              "      <td></td>\n",
              "    </tr>\n",
              "  </tbody>\n",
              "</table>\n",
              "</div>"
            ],
            "text/plain": [
              "0                                            product  qty  ...  weight  palleted\n",
              "1        stack of (Case Study) MS LOUNGE,CORNER LEFT    2  ...     116          \n",
              "3           stack of (Case Study) MS LOUNGE,STRAIGHT    2  ...     104          \n",
              "2  stack of CTN,SPL M2X POWER UNIT,PACK - COLAGCL...    6  ...      42          \n",
              "\n",
              "[3 rows x 7 columns]"
            ]
          },
          "metadata": {
            "tags": []
          },
          "execution_count": 9
        }
      ]
    },
    {
      "cell_type": "code",
      "metadata": {
        "colab": {
          "base_uri": "https://localhost:8080/",
          "height": 110
        },
        "id": "NnlEiLKCAoP9",
        "outputId": "e5f6f90b-2f2c-4e42-ea1a-935bc9f03017"
      },
      "source": [
        "# create df for the leftover items\n",
        "column_names = [\"product\", \"qty\", \"length\", \"width\", \"height\", \"weight\", \"palleted\"]\n",
        "df_leftover = pd.DataFrame(odd_to_add, columns = column_names)\n",
        "\n",
        "for i, row in df_leftover.iterrows():\n",
        "    color_list += ['red']\n",
        "\n",
        "for i, row in df_leftover.iterrows():\n",
        "    df_leftover['product'] = df_leftover['product'].map(lambda x: x.lstrip('stack of'))\n",
        "\n",
        "df_leftover"
      ],
      "execution_count": 10,
      "outputs": [
        {
          "output_type": "execute_result",
          "data": {
            "text/html": [
              "<div>\n",
              "<style scoped>\n",
              "    .dataframe tbody tr th:only-of-type {\n",
              "        vertical-align: middle;\n",
              "    }\n",
              "\n",
              "    .dataframe tbody tr th {\n",
              "        vertical-align: top;\n",
              "    }\n",
              "\n",
              "    .dataframe thead th {\n",
              "        text-align: right;\n",
              "    }\n",
              "</style>\n",
              "<table border=\"1\" class=\"dataframe\">\n",
              "  <thead>\n",
              "    <tr style=\"text-align: right;\">\n",
              "      <th></th>\n",
              "      <th>product</th>\n",
              "      <th>qty</th>\n",
              "      <th>length</th>\n",
              "      <th>width</th>\n",
              "      <th>height</th>\n",
              "      <th>weight</th>\n",
              "      <th>palleted</th>\n",
              "    </tr>\n",
              "  </thead>\n",
              "  <tbody>\n",
              "    <tr>\n",
              "      <th>0</th>\n",
              "      <td>(Case Study) MS LOUNGE,CORNER LEFT</td>\n",
              "      <td>1</td>\n",
              "      <td>100</td>\n",
              "      <td>40</td>\n",
              "      <td>33.0</td>\n",
              "      <td>58.0</td>\n",
              "      <td></td>\n",
              "    </tr>\n",
              "    <tr>\n",
              "      <th>1</th>\n",
              "      <td>CTN,SPL M2X POWER UNIT,PACK - COLAGCL3 - P999865</td>\n",
              "      <td>1</td>\n",
              "      <td>67</td>\n",
              "      <td>40</td>\n",
              "      <td>9.0</td>\n",
              "      <td>21.0</td>\n",
              "      <td></td>\n",
              "    </tr>\n",
              "  </tbody>\n",
              "</table>\n",
              "</div>"
            ],
            "text/plain": [
              "                                            product  qty  ...  weight  palleted\n",
              "0                (Case Study) MS LOUNGE,CORNER LEFT    1  ...    58.0          \n",
              "1  CTN,SPL M2X POWER UNIT,PACK - COLAGCL3 - P999865    1  ...    21.0          \n",
              "\n",
              "[2 rows x 7 columns]"
            ]
          },
          "metadata": {
            "tags": []
          },
          "execution_count": 10
        }
      ]
    },
    {
      "cell_type": "code",
      "metadata": {
        "colab": {
          "base_uri": "https://localhost:8080/",
          "height": 220
        },
        "id": "PjvbuOfhVgy2",
        "outputId": "f7379348-ad76-466f-e50b-2f14a5a02d10"
      },
      "source": [
        "print(color_list)\n",
        "color_list = iter(color_list)\n",
        "\n",
        "# combine the stacked df and leftover df\n",
        "df_stacked_and_leftover = pd.concat([df_stacked, df_leftover], ignore_index=True, sort=False)\n",
        "df_stacked_and_leftover"
      ],
      "execution_count": 11,
      "outputs": [
        {
          "output_type": "stream",
          "text": [
            "['green', 'green', 'green', 'green', 'green', 'green', 'green', 'green', 'green', 'green', 'red', 'red']\n"
          ],
          "name": "stdout"
        },
        {
          "output_type": "execute_result",
          "data": {
            "text/html": [
              "<div>\n",
              "<style scoped>\n",
              "    .dataframe tbody tr th:only-of-type {\n",
              "        vertical-align: middle;\n",
              "    }\n",
              "\n",
              "    .dataframe tbody tr th {\n",
              "        vertical-align: top;\n",
              "    }\n",
              "\n",
              "    .dataframe thead th {\n",
              "        text-align: right;\n",
              "    }\n",
              "</style>\n",
              "<table border=\"1\" class=\"dataframe\">\n",
              "  <thead>\n",
              "    <tr style=\"text-align: right;\">\n",
              "      <th></th>\n",
              "      <th>product</th>\n",
              "      <th>qty</th>\n",
              "      <th>length</th>\n",
              "      <th>width</th>\n",
              "      <th>height</th>\n",
              "      <th>weight</th>\n",
              "      <th>palleted</th>\n",
              "    </tr>\n",
              "  </thead>\n",
              "  <tbody>\n",
              "    <tr>\n",
              "      <th>0</th>\n",
              "      <td>stack of (Case Study) MS LOUNGE,CORNER LEFT</td>\n",
              "      <td>2</td>\n",
              "      <td>100</td>\n",
              "      <td>40</td>\n",
              "      <td>66.0</td>\n",
              "      <td>116.0</td>\n",
              "      <td></td>\n",
              "    </tr>\n",
              "    <tr>\n",
              "      <th>1</th>\n",
              "      <td>stack of (Case Study) MS LOUNGE,STRAIGHT</td>\n",
              "      <td>2</td>\n",
              "      <td>89</td>\n",
              "      <td>40</td>\n",
              "      <td>66.0</td>\n",
              "      <td>104.0</td>\n",
              "      <td></td>\n",
              "    </tr>\n",
              "    <tr>\n",
              "      <th>2</th>\n",
              "      <td>stack of CTN,SPL M2X POWER UNIT,PACK - COLAGCL...</td>\n",
              "      <td>6</td>\n",
              "      <td>67</td>\n",
              "      <td>40</td>\n",
              "      <td>18.0</td>\n",
              "      <td>42.0</td>\n",
              "      <td></td>\n",
              "    </tr>\n",
              "    <tr>\n",
              "      <th>3</th>\n",
              "      <td>(Case Study) MS LOUNGE,CORNER LEFT</td>\n",
              "      <td>1</td>\n",
              "      <td>100</td>\n",
              "      <td>40</td>\n",
              "      <td>33.0</td>\n",
              "      <td>58.0</td>\n",
              "      <td></td>\n",
              "    </tr>\n",
              "    <tr>\n",
              "      <th>4</th>\n",
              "      <td>CTN,SPL M2X POWER UNIT,PACK - COLAGCL3 - P999865</td>\n",
              "      <td>1</td>\n",
              "      <td>67</td>\n",
              "      <td>40</td>\n",
              "      <td>9.0</td>\n",
              "      <td>21.0</td>\n",
              "      <td></td>\n",
              "    </tr>\n",
              "  </tbody>\n",
              "</table>\n",
              "</div>"
            ],
            "text/plain": [
              "0                                            product  qty  ...  weight  palleted\n",
              "0        stack of (Case Study) MS LOUNGE,CORNER LEFT    2  ...   116.0          \n",
              "1           stack of (Case Study) MS LOUNGE,STRAIGHT    2  ...   104.0          \n",
              "2  stack of CTN,SPL M2X POWER UNIT,PACK - COLAGCL...    6  ...    42.0          \n",
              "3                 (Case Study) MS LOUNGE,CORNER LEFT    1  ...    58.0          \n",
              "4   CTN,SPL M2X POWER UNIT,PACK - COLAGCL3 - P999865    1  ...    21.0          \n",
              "\n",
              "[5 rows x 7 columns]"
            ]
          },
          "metadata": {
            "tags": []
          },
          "execution_count": 11
        }
      ]
    },
    {
      "cell_type": "markdown",
      "metadata": {
        "id": "M2AKhwiHgx3t"
      },
      "source": [
        "## Stacking results"
      ]
    },
    {
      "cell_type": "code",
      "metadata": {
        "colab": {
          "base_uri": "https://localhost:8080/"
        },
        "id": "kj_i4q0vVhMl",
        "outputId": "d2d4a5bd-e200-4989-fd6d-8b656b95aeb4"
      },
      "source": [
        "stacked_tuples = []\n",
        "\n",
        "for i, row in df_stacked_and_leftover.iterrows():\n",
        "    for x in range(0,df_stacked_and_leftover['qty'][i]):\n",
        "        stacked_tuples.append((df_stacked_and_leftover['length'][i],\n",
        "                               df_stacked_and_leftover['width'][i]))\n",
        "\n",
        "print(stacked_tuples)"
      ],
      "execution_count": 12,
      "outputs": [
        {
          "output_type": "stream",
          "text": [
            "[(100, 40), (100, 40), (89, 40), (89, 40), (67, 40), (67, 40), (67, 40), (67, 40), (67, 40), (67, 40), (100, 40), (67, 40)]\n"
          ],
          "name": "stdout"
        }
      ]
    },
    {
      "cell_type": "code",
      "metadata": {
        "id": "p42N-yyTuDyB"
      },
      "source": [
        "containers_stacked = [(hc_l, hc_w)] * amount\n",
        "\n",
        "packer_intocontainers_stacked = newPacker()\n",
        "\n",
        "\n",
        "# Add pallets and non-palleted items into sea container\n",
        "for r in stacked_tuples:\n",
        "\tpacker_intocontainers_stacked.add_rect(*r)\n",
        "\n",
        "for b in containers_stacked:\n",
        "\tpacker_intocontainers_stacked.add_bin(*b)\n",
        " \n",
        "\n",
        "packer_intocontainers_stacked.pack()"
      ],
      "execution_count": 13,
      "outputs": []
    },
    {
      "cell_type": "code",
      "metadata": {
        "colab": {
          "base_uri": "https://localhost:8080/"
        },
        "id": "EgpL7D96QZ0E",
        "outputId": "4a041f68-ffde-4e90-b7bb-0a18c88a6560"
      },
      "source": [
        "ncontainers_stacked = len(packer_intocontainers_stacked)\n",
        "print(f\"{ncontainers_stacked} containers are used.\")"
      ],
      "execution_count": 14,
      "outputs": [
        {
          "output_type": "stream",
          "text": [
            "2 containers are used.\n"
          ],
          "name": "stdout"
        }
      ]
    },
    {
      "cell_type": "code",
      "metadata": {
        "colab": {
          "base_uri": "https://localhost:8080/",
          "height": 315
        },
        "id": "7vlH-4n6QmbK",
        "outputId": "a8d3c710-3a32-4654-93d6-4c67c490f7ef"
      },
      "source": [
        "loc_dict = {}\n",
        "\n",
        "fig = plt.figure(figsize=(15,15))\n",
        "\n",
        "ncolumns = 2\n",
        "\n",
        "shape = (int(math.ceil(ncontainers_stacked/ncolumns)), ncolumns)\n",
        "\n",
        "usedpallets = []\n",
        "\n",
        "print(\"\\n\")\n",
        "\n",
        "counter = -1\n",
        "\n",
        "i=0\n",
        "while i < ncontainers_stacked:\n",
        "\n",
        "    if (i % ncolumns == 0):\n",
        "        counter += 1\n",
        "\n",
        "    print(f\"Shipping Container #{i+1}: {containers_stacked[i][0]}L x {containers_stacked[i][1]}W\")\n",
        "    plt.title(f\"Shipping Container #{i}: {containers_stacked[i][0]}L x {containers_stacked[i][1]}W\")\n",
        "\n",
        "    loc_dict[i] = (counter, i % ncolumns)\n",
        "\n",
        "    ax = plt.subplot2grid(shape=shape, loc=loc_dict[i])\n",
        "                                     \n",
        "    plt.ylim(0, containers_stacked[i][1])\n",
        "    plt.xlim(0, containers_stacked[i][0])\n",
        "    plt.gca().set_aspect('equal', adjustable='box')\n",
        "\n",
        "    print(f\"Pallets fit: {len(packer_intocontainers_stacked[i])}\")\n",
        "\n",
        "    x=0\n",
        "    while x < len(packer_intocontainers_stacked[i]):\n",
        "\n",
        "        drawrect = patches.Rectangle((packer_intocontainers_stacked[i][x].x, packer_intocontainers_stacked[i][x].y), packer_intocontainers_stacked[i][x].width, \n",
        "                                 packer_intocontainers_stacked[i][x].height, linewidth=1, color=next(color_list), ec=\"#000000\")\n",
        "        \n",
        "        ax.add_patch(drawrect)\n",
        "\n",
        "        x += 1\n",
        "\n",
        "    print(\"\\n\")\n",
        "\n",
        "    i += 1\n",
        "\n",
        "plt.title(f\"Shipping Container #{i}: {containers_stacked[i][0]}L x {containers_stacked[i][0]}W\")\n",
        "\n",
        "plt.subplots_adjust(left=None, bottom=0.60, right=None, top=None, wspace=0.1, hspace=0.1)\n",
        "\n",
        "green_patch = patches.Patch(color='green', label='stacked')\n",
        "red_patch = patches.Patch(color='red', label='not stacked')\n",
        "plt.legend(handles=[green_patch, red_patch])\n",
        "\n",
        "plt.savefig('stacking.png')"
      ],
      "execution_count": 15,
      "outputs": [
        {
          "output_type": "stream",
          "text": [
            "\n",
            "\n",
            "Shipping Container #1: 474L x 92W\n",
            "Pallets fit: 11\n",
            "\n",
            "\n",
            "Shipping Container #2: 474L x 92W\n",
            "Pallets fit: 1\n",
            "\n",
            "\n"
          ],
          "name": "stdout"
        },
        {
          "output_type": "display_data",
          "data": {
            "image/png": "[encoded data removed]",
            "text/plain": [
              "<Figure size 1080x1080 with 2 Axes>"
            ]
          },
          "metadata": {
            "tags": [],
            "needs_background": "light"
          }
        }
      ]
    },
    {
      "cell_type": "markdown",
      "metadata": {
        "id": "nH4ZQk7htSf9"
      },
      "source": [
        "# Reporting"
      ]
    },
    {
      "cell_type": "markdown",
      "metadata": {
        "id": "u5_mWwYNPoAD"
      },
      "source": [
        "## Optimal floor loading"
      ]
    },
    {
      "cell_type": "code",
      "metadata": {
        "colab": {
          "base_uri": "https://localhost:8080/",
          "height": 874
        },
        "id": "9oYRbUeQO1_Z",
        "outputId": "d24d05c0-e45b-47da-bf45-9224f5e89fdd"
      },
      "source": [
        "from IPython.display import Image\n",
        "Image('floor_loading_only.png')"
      ],
      "execution_count": 16,
      "outputs": [
        {
          "output_type": "execute_result",
          "data": {
            "image/png": "[encoded data removed]",
            "text/plain": [
              "<IPython.core.display.Image object>"
            ]
          },
          "metadata": {
            "tags": []
          },
          "execution_count": 16
        }
      ]
    },
    {
      "cell_type": "markdown",
      "metadata": {
        "id": "zeYdjnjnPw5T"
      },
      "source": [
        "## Stack loading"
      ]
    },
    {
      "cell_type": "code",
      "metadata": {
        "colab": {
          "base_uri": "https://localhost:8080/",
          "height": 874
        },
        "id": "YshO5IU0PJJe",
        "outputId": "61bbe9c4-ace7-4dc8-d2a4-9cb95f53a932"
      },
      "source": [
        "Image('stacking.png')"
      ],
      "execution_count": 17,
      "outputs": [
        {
          "output_type": "execute_result",
          "data": {
            "image/png": "[encoded data removed]",
            "text/plain": [
              "<IPython.core.display.Image object>"
            ]
          },
          "metadata": {
            "tags": []
          },
          "execution_count": 17
        }
      ]
    },
    {
      "cell_type": "markdown",
      "metadata": {
        "id": "0ogfPS59RGaZ"
      },
      "source": [
        "## CSV files for data analysis"
      ]
    },
    {
      "cell_type": "code",
      "metadata": {
        "id": "qQW-j8Ont_e2"
      },
      "source": [
        "reportheader = ['sales order', '# of containers optimal floorloading', '# of containers stacking']\n",
        "\n",
        "# creates a csv file\n",
        "with open('highcube_capacity_statistics.csv', 'w', newline='') as file:\n",
        "    writer = csv.writer(file)\n",
        "    writer.writerow(reportheader)\n",
        "    writer.writerow([8195006, ncontainers, ncontainers_stacked])\n",
        "\n",
        "# adds to the csv file. change datasheets \n",
        "with open('highcube_capacity_statistics.csv', 'a', newline='') as file:\n",
        "    writer = csv.writer(file)\n",
        "    writer.writerow([\"Shipment Number\", ncontainers, ncontainers_stacked])"
      ],
      "execution_count": 18,
      "outputs": []
    }
  ]
}